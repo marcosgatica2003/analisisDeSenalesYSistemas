{
  "nbformat": 4,
  "nbformat_minor": 0,
  "metadata": {
    "colab": {
      "provenance": [],
      "authorship_tag": "ABX9TyMkgqem4WSCi5leloG2yViQ",
      "include_colab_link": true
    },
    "kernelspec": {
      "name": "python3",
      "display_name": "Python 3"
    },
    "language_info": {
      "name": "python"
    }
  },
  "cells": [
    {
      "cell_type": "markdown",
      "metadata": {
        "id": "view-in-github",
        "colab_type": "text"
      },
      "source": [
        "<a href=\"https://colab.research.google.com/github/marcosgatica2003/analisisDeSenalesYSistemas/blob/main/Ejercicio.ipynb\" target=\"_parent\"><img src=\"https://colab.research.google.com/assets/colab-badge.svg\" alt=\"Open In Colab\"/></a>"
      ]
    },
    {
      "cell_type": "markdown",
      "source": [
        "Conjunto $S$ definido como:\n",
        "$$\n",
        "S: Re(z) + Imag(z) = 1\n",
        "$$\n",
        "Expresado como una serie de puntos que tienen forma binomial:\n",
        "$$\n",
        "z = x + yj, \\hspace{10pt} x+y=1 ⇒y = 1-x\n",
        "$$\n",
        "Por lo que\n",
        "$$\n",
        "z = x + j(1-x), \\hspace{10pt} x \\in [0;1]\n",
        "$$\n",
        "\n",
        "Esa serie de números complejos que obtuve representan al conjunto $S$, por lo que podemos mapear el mismo bajo $ω$ de la siguiente forma:\n",
        "\n"
      ],
      "metadata": {
        "id": "bBPsJ_C0K2bc"
      }
    }
  ]
}